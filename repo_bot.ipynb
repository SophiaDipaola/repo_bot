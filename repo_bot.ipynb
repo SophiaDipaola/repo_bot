{
 "cells": [
  {
   "cell_type": "code",
   "execution_count": 143,
   "id": "endless-combination",
   "metadata": {},
   "outputs": [],
   "source": [
    "from selenium import webdriver\n",
    "import time, requests\n",
    "from keys import username, password\n",
    "from repo import repo"
   ]
  },
  {
   "cell_type": "code",
   "execution_count": 144,
   "id": "prompt-brass",
   "metadata": {},
   "outputs": [],
   "source": [
    "driver = webdriver.Chrome('/Users/sophiadipaola/downloads/chromedriver')"
   ]
  },
  {
   "cell_type": "code",
   "execution_count": 145,
   "id": "ambient-night",
   "metadata": {},
   "outputs": [],
   "source": [
    "driver.get('http://www.github.com')"
   ]
  },
  {
   "cell_type": "code",
   "execution_count": 146,
   "id": "grateful-snapshot",
   "metadata": {
    "tags": []
   },
   "outputs": [],
   "source": [
    "driver.find_element_by_xpath('/html/body/div[1]/header/div/div[2]/div[2]/a[1]').click()"
   ]
  },
  {
   "cell_type": "code",
   "execution_count": 147,
   "id": "narrative-beatles",
   "metadata": {},
   "outputs": [],
   "source": [
    "#login\n",
    "driver.find_element_by_xpath('//*[@id=\"login_field\"]').send_keys(username)\n",
    "driver.find_element_by_xpath ('//*[@id=\"password\"]').send_keys(password)\n",
    "#click the sign in button\n",
    "driver.find_element_by_xpath('//*[@id=\"login\"]/div[4]/form/div/input[12]').click()"
   ]
  },
  {
   "cell_type": "code",
   "execution_count": 148,
   "id": "sonic-transmission",
   "metadata": {},
   "outputs": [],
   "source": [
    "driver.find_element_by_xpath('/html/body/div[1]/header/div[6]/details/summary/span').click()"
   ]
  },
  {
   "cell_type": "code",
   "execution_count": 149,
   "id": "temporal-facility",
   "metadata": {},
   "outputs": [],
   "source": [
    "driver.find_element_by_xpath('/html/body/div[1]/header/div[6]/details/details-menu/a[1]').click()"
   ]
  },
  {
   "cell_type": "code",
   "execution_count": 150,
   "id": "surface-experience",
   "metadata": {},
   "outputs": [],
   "source": [
    "driver.find_element_by_xpath('//*[@id=\"repository_auto_init\"]').click()"
   ]
  },
  {
   "cell_type": "code",
   "execution_count": 151,
   "id": "simplified-caution",
   "metadata": {},
   "outputs": [],
   "source": [
    "driver.find_element_by_xpath('//*[@id=\"repo-name-suggestion\"]/strong').click()"
   ]
  },
  {
   "cell_type": "code",
   "execution_count": 152,
   "id": "featured-brief",
   "metadata": {},
   "outputs": [],
   "source": [
    "driver.find_element_by_xpath('//*[@id=\"new_repository\"]/div[6]/button').click()"
   ]
  },
  {
   "cell_type": "code",
   "execution_count": null,
   "id": "smart-brown",
   "metadata": {},
   "outputs": [],
   "source": []
  }
 ],
 "metadata": {
  "kernelspec": {
   "display_name": "Python 3",
   "language": "python",
   "name": "python3"
  },
  "language_info": {
   "codemirror_mode": {
    "name": "ipython",
    "version": 3
   },
   "file_extension": ".py",
   "mimetype": "text/x-python",
   "name": "python",
   "nbconvert_exporter": "python",
   "pygments_lexer": "ipython3",
   "version": "3.9.2"
  }
 },
 "nbformat": 4,
 "nbformat_minor": 5
}
