{
 "cells": [
  {
   "cell_type": "code",
   "execution_count": 124,
   "id": "scheduled-simpson",
   "metadata": {},
   "outputs": [],
   "source": [
    "from selenium import webdriver\n",
    "import time, requests\n",
    "from keys import username, password\n",
    "from repo import repo"
   ]
  },
  {
   "cell_type": "code",
   "execution_count": 125,
   "id": "handy-allah",
   "metadata": {},
   "outputs": [],
   "source": [
    "driver = webdriver.Chrome('/Users/sophiadipaola/downloads/chromedriver')"
   ]
  },
  {
   "cell_type": "code",
   "execution_count": 126,
   "id": "intense-columbus",
   "metadata": {},
   "outputs": [],
   "source": [
    "driver.get('http://www.github.com')"
   ]
  },
  {
   "cell_type": "code",
   "execution_count": 127,
   "id": "filled-drove",
   "metadata": {
    "tags": []
   },
   "outputs": [],
   "source": [
    "driver.find_element_by_xpath('/html/body/div[1]/header/div/div[2]/div[2]/a[1]').click()"
   ]
  },
  {
   "cell_type": "code",
   "execution_count": 128,
   "id": "gentle-nightlife",
   "metadata": {},
   "outputs": [],
   "source": [
    "#login\n",
    "driver.find_element_by_xpath('//*[@id=\"login_field\"]').send_keys(username)\n",
    "driver.find_element_by_xpath ('//*[@id=\"password\"]').send_keys(password)\n",
    "#click the sign in button\n",
    "driver.find_element_by_xpath('//*[@id=\"login\"]/div[4]/form/div/input[12]').click()"
   ]
  },
  {
   "cell_type": "code",
   "execution_count": 129,
   "id": "thermal-furniture",
   "metadata": {},
   "outputs": [],
   "source": [
    "driver.find_element_by_xpath('/html/body/div[1]/header/div[6]/details/summary/span').click()"
   ]
  },
  {
   "cell_type": "code",
   "execution_count": 130,
   "id": "later-personality",
   "metadata": {},
   "outputs": [],
   "source": [
    "driver.find_element_by_xpath('/html/body/div[1]/header/div[6]/details/details-menu/a[1]').click()"
   ]
  },
  {
   "cell_type": "code",
   "execution_count": 131,
   "id": "answering-investment",
   "metadata": {},
   "outputs": [],
   "source": [
    "driver.find_element_by_xpath('//*[@id=\"repository_auto_init\"]').click()"
   ]
  },
  {
   "cell_type": "code",
   "execution_count": 132,
   "id": "external-basketball",
   "metadata": {},
   "outputs": [],
   "source": [
    "driver.find_element_by_xpath('//*[@id=\"repo-name-suggestion\"]/strong').click()"
   ]
  },
  {
   "cell_type": "code",
   "execution_count": null,
   "id": "important-ability",
   "metadata": {},
   "outputs": [],
   "source": [
    "driver.find_element_by_xpath('//*[@id=\"new_repository\"]/div[6]/button').click()"
   ]
  }
 ],
 "metadata": {
  "kernelspec": {
   "display_name": "Python 3",
   "language": "python",
   "name": "python3"
  },
  "language_info": {
   "codemirror_mode": {
    "name": "ipython",
    "version": 3
   },
   "file_extension": ".py",
   "mimetype": "text/x-python",
   "name": "python",
   "nbconvert_exporter": "python",
   "pygments_lexer": "ipython3",
   "version": "3.9.2"
  }
 },
 "nbformat": 4,
 "nbformat_minor": 5
}
